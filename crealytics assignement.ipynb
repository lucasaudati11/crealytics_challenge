{
 "cells": [
  {
   "cell_type": "code",
   "execution_count": 1,
   "metadata": {},
   "outputs": [
    {
     "data": {
      "text/plain": [
       "'/home/eperru11/Downloads'"
      ]
     },
     "execution_count": 1,
     "metadata": {},
     "output_type": "execute_result"
    }
   ],
   "source": [
    "pwd"
   ]
  },
  {
   "cell_type": "code",
   "execution_count": 2,
   "metadata": {},
   "outputs": [
    {
     "name": "stdout",
     "output_type": "stream",
     "text": [
      "['customer_id', 'product_id', 'date', 'quantity']\n",
      "['1', '1', '20170101', '10']\n",
      "['1', '1', '20170102', '3']\n",
      "['1', '2', '20170102', '1']\n",
      "['2', '1', '20170101', '5']\n",
      "['3', '1', '20170102', '7']\n",
      "['4', '2', '20170101', '1']\n"
     ]
    }
   ],
   "source": [
    "import csv\n",
    "\n",
    "with open('sales.csv', 'r') as file:\n",
    "    my_reader = csv.reader(file, delimiter=',')\n",
    "    for row in my_reader:\n",
    "        print(row)"
   ]
  },
  {
   "cell_type": "code",
   "execution_count": 3,
   "metadata": {
    "scrolled": true
   },
   "outputs": [
    {
     "name": "stdout",
     "output_type": "stream",
     "text": [
      "['customer_id', 'name', 'email', 'address']\n",
      "['1', 'Rike Weiss', 'rike.weiss@email.com', 'Berlinerstraße 1']\n",
      "['2', 'Max Musterman', 'max.musterman@email.com', 'Berlinerstraße 1']\n",
      "['3', 'Hildegard Hartmann', 'hildegard.hartmann@email.com', 'Torstraße 25']\n",
      "['4', 'Kora Schegtel', 'kora.schegtel@email.com', 'Oranienstraße 10']\n",
      "['5', 'Kora Schegtel', 'kschegtel@hotmail.com', 'Frankfurterstraße 33']\n"
     ]
    }
   ],
   "source": [
    "import csv\n",
    "\n",
    "with open('customers.csv', 'r') as file:\n",
    "    my_reader = csv.reader(file, delimiter=',')\n",
    "    for row in my_reader:\n",
    "        print(row)"
   ]
  },
  {
   "cell_type": "code",
   "execution_count": null,
   "metadata": {},
   "outputs": [],
   "source": []
  }
 ],
 "metadata": {
  "kernelspec": {
   "display_name": "Python 3",
   "language": "python",
   "name": "python3"
  },
  "language_info": {
   "codemirror_mode": {
    "name": "ipython",
    "version": 3
   },
   "file_extension": ".py",
   "mimetype": "text/x-python",
   "name": "python",
   "nbconvert_exporter": "python",
   "pygments_lexer": "ipython3",
   "version": "3.7.3"
  }
 },
 "nbformat": 4,
 "nbformat_minor": 2
}
